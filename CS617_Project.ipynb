{
  "nbformat": 4,
  "nbformat_minor": 0,
  "metadata": {
    "kernelspec": {
      "display_name": "Python 3",
      "language": "python",
      "name": "python3"
    },
    "language_info": {
      "codemirror_mode": {
        "name": "ipython",
        "version": 3
      },
      "file_extension": ".py",
      "mimetype": "text/x-python",
      "name": "python",
      "nbconvert_exporter": "python",
      "pygments_lexer": "ipython3",
      "version": "3.7.4"
    },
    "colab": {
      "name": "CS617 Project.ipynb",
      "provenance": [],
      "collapsed_sections": [
        "tLVQTR3tHOIU",
        "HY4FeX8qHOIZ",
        "wxGo5z_YHOI2",
        "5OyCiq90HOJM"
      ],
      "toc_visible": true,
      "include_colab_link": true
    }
  },
  "cells": [
    {
      "cell_type": "markdown",
      "metadata": {
        "id": "view-in-github",
        "colab_type": "text"
      },
      "source": [
        "<a href=\"https://colab.research.google.com/github/revatim/Devanagri-image-to-text/blob/master/CS617_Project.ipynb\" target=\"_parent\"><img src=\"https://colab.research.google.com/assets/colab-badge.svg\" alt=\"Open In Colab\"/></a>"
      ]
    },
    {
      "cell_type": "markdown",
      "metadata": {
        "id": "tLVQTR3tHOIU",
        "colab_type": "text"
      },
      "source": [
        "### Importing Required Elements for model training"
      ]
    },
    {
      "cell_type": "code",
      "metadata": {
        "id": "ECgANChZHOIV",
        "colab_type": "code",
        "outputId": "3e3b58eb-a6fc-4e27-b85c-494cd78582a3",
        "colab": {
          "base_uri": "https://localhost:8080/",
          "height": 34
        }
      },
      "source": [
        "import random\n",
        "import numpy as np\n",
        "import pandas as pd\n",
        "# plotting imports\n",
        "import matplotlib.pyplot as plt\n",
        "#  preprocessing imports\n",
        "from sklearn.model_selection import train_test_split\n",
        "from sklearn.preprocessing import LabelEncoder\n",
        "#  Model imports\n",
        "from keras.models import Sequential\n",
        "from keras.layers import Dense, Conv2D, MaxPool2D, Flatten, Dropout\n",
        "from keras.utils.np_utils import to_categorical\n",
        "# for importing model\n",
        "from keras.models import model_from_json"
      ],
      "execution_count": 0,
      "outputs": [
        {
          "output_type": "stream",
          "text": [
            "Using TensorFlow backend.\n"
          ],
          "name": "stderr"
        }
      ]
    },
    {
      "cell_type": "markdown",
      "metadata": {
        "id": "HY4FeX8qHOIZ",
        "colab_type": "text"
      },
      "source": [
        "### Convert Data from Image to pixels and label - save in csv"
      ]
    },
    {
      "cell_type": "code",
      "metadata": {
        "id": "laAy_jr7HOIZ",
        "colab_type": "code",
        "outputId": "c394dc1f-7062-4908-9fca-bdaa638240eb",
        "colab": {}
      },
      "source": [
        "# #Convert data from images to csv # #This function will run seperately and data.csv is saved in a folder\n",
        "# from PIL import Image\n",
        "# import numpy as np\n",
        "# import sys\n",
        "# import os\n",
        "# import csv\n",
        "\n",
        "# BASE_DIR = 'C:/Users/reuat/Downloads/dataset/DevanagariHandwrittenCharacterDataset/'\n",
        "# train_folder = BASE_DIR+'Test/' \n",
        "\n",
        "# def getFiles(myDir, format='.png'):\n",
        "# \tfileList = []\n",
        "# \tfor root, dirs, files in os.walk(myDir, topdown=False):\n",
        "# \t    for name in files:\n",
        "# \t        if name.endswith(format):\n",
        "# \t            fullName = os.path.join(root, name)\n",
        "# \t            fileList.append(fullName)\n",
        "# \treturn fileList\n",
        "\n",
        "# column_list = [\"pixel__\" + str(i).zfill(4) for i in range(0,1024)]\n",
        "# column_list.append('character')\n",
        "# with open(\"data4.csv\", 'a', newline='') as f:\n",
        "#     writer = csv.writer(f)\n",
        "# #     writer.writerow(column_list) #for headers\n",
        "#     folders_in_train = sorted(os.listdir(train_folder)) #get all folders in the dataset- foldername is the label\n",
        "\n",
        "#     for folder_name in folders_in_train:\n",
        "#     \tmyFileList = getFiles(train_folder + folder_name + '/')\n",
        "#     \tprint(folder_name)\n",
        "#     \tfor file in myFileList:\n",
        "#     \t\timg_file = Image.open(file)\n",
        "#     \t\timg_grey = img_file.convert('L')\n",
        "#     \t\tvalue = np.asarray(img_grey.getdata(), dtype=np.int).reshape((img_grey.size[1], img_grey.size[0]))\n",
        "#     \t\tvalue = value.flatten()\n",
        "#     \t\tvalue = np.append(value, folder_name)\n",
        "#     \t\twriter.writerow(value)"
      ],
      "execution_count": 0,
      "outputs": [
        {
          "output_type": "stream",
          "text": [
            "character_10_yna\n",
            "character_11_taamatar\n",
            "character_12_thaa\n",
            "character_13_daa\n",
            "character_14_dhaa\n",
            "character_15_adna\n",
            "character_16_tabala\n",
            "character_17_tha\n",
            "character_18_da\n",
            "character_19_dha\n",
            "character_1_ka\n",
            "character_20_na\n",
            "character_21_pa\n",
            "character_22_pha\n",
            "character_23_ba\n",
            "character_24_bha\n",
            "character_25_ma\n",
            "character_26_yaw\n",
            "character_27_ra\n",
            "character_28_la\n",
            "character_29_waw\n",
            "character_2_kha\n",
            "character_30_motosaw\n",
            "character_31_petchiryakha\n",
            "character_32_patalosaw\n",
            "character_33_ha\n",
            "character_34_chhya\n",
            "character_35_tra\n",
            "character_36_gya\n",
            "character_3_ga\n",
            "character_4_gha\n",
            "character_5_kna\n",
            "character_6_cha\n",
            "character_7_chha\n",
            "character_8_ja\n",
            "character_9_jha\n",
            "digit_0\n",
            "digit_1\n",
            "digit_2\n",
            "digit_3\n",
            "digit_4\n",
            "digit_5\n",
            "digit_6\n",
            "digit_7\n",
            "digit_8\n",
            "digit_9\n"
          ],
          "name": "stdout"
        }
      ]
    },
    {
      "cell_type": "code",
      "metadata": {
        "id": "OqCGmzPCHOIc",
        "colab_type": "code",
        "outputId": "b181228a-05a8-44b0-8aa6-cc5c78c4f342",
        "colab": {}
      },
      "source": [
        "import os\n",
        "# os.chdir(\"F:/Semester 8 IIITDMJ/Deep Learning CS617/Project/Run Files/dataset\")\n",
        "# data = pd.read_csv(\"data.csv\")\n",
        "os.chdir(\"F:/Semester 8 IIITDMJ/Deep Learning CS617/Project/dataset\")\n",
        "data = pd.read_csv(\"data4.csv\")\n",
        "print(data.shape)"
      ],
      "execution_count": 0,
      "outputs": [
        {
          "output_type": "stream",
          "text": [
            "(92000, 1025)\n"
          ],
          "name": "stdout"
        }
      ]
    },
    {
      "cell_type": "code",
      "metadata": {
        "id": "dIWU6z_DHOIe",
        "colab_type": "code",
        "outputId": "d1491126-dbcc-4f08-f450-969f53adae9c",
        "colab": {}
      },
      "source": [
        "data.head(6)\n",
        "# data.drop(columns = ['Unnamed: 0'], inplace = True)\n",
        "# # ordering data\n",
        "\n",
        "# data['character'] = data['character'].apply(lambda x: x.split('_')[0] + '_' + x.split('_')[1].zfill(2) )\n",
        "# data.sort_values('character', inplace = True)\n",
        "\n",
        "# data.head(n=6)\n",
        "# data.to_csv('F:/Semester 8 IIITDMJ/Deep Learning CS617/Project/dataset/data4.csv', index = False)\n"
      ],
      "execution_count": 0,
      "outputs": [
        {
          "output_type": "execute_result",
          "data": {
            "text/html": [
              "<div>\n",
              "<style scoped>\n",
              "    .dataframe tbody tr th:only-of-type {\n",
              "        vertical-align: middle;\n",
              "    }\n",
              "\n",
              "    .dataframe tbody tr th {\n",
              "        vertical-align: top;\n",
              "    }\n",
              "\n",
              "    .dataframe thead th {\n",
              "        text-align: right;\n",
              "    }\n",
              "</style>\n",
              "<table border=\"1\" class=\"dataframe\">\n",
              "  <thead>\n",
              "    <tr style=\"text-align: right;\">\n",
              "      <th></th>\n",
              "      <th>pixel__0000</th>\n",
              "      <th>pixel__0001</th>\n",
              "      <th>pixel__0002</th>\n",
              "      <th>pixel__0003</th>\n",
              "      <th>pixel__0004</th>\n",
              "      <th>pixel__0005</th>\n",
              "      <th>pixel__0006</th>\n",
              "      <th>pixel__0007</th>\n",
              "      <th>pixel__0008</th>\n",
              "      <th>pixel__0009</th>\n",
              "      <th>...</th>\n",
              "      <th>pixel__1015</th>\n",
              "      <th>pixel__1016</th>\n",
              "      <th>pixel__1017</th>\n",
              "      <th>pixel__1018</th>\n",
              "      <th>pixel__1019</th>\n",
              "      <th>pixel__1020</th>\n",
              "      <th>pixel__1021</th>\n",
              "      <th>pixel__1022</th>\n",
              "      <th>pixel__1023</th>\n",
              "      <th>character</th>\n",
              "    </tr>\n",
              "  </thead>\n",
              "  <tbody>\n",
              "    <tr>\n",
              "      <td>0</td>\n",
              "      <td>0</td>\n",
              "      <td>0</td>\n",
              "      <td>0</td>\n",
              "      <td>0</td>\n",
              "      <td>0</td>\n",
              "      <td>0</td>\n",
              "      <td>0</td>\n",
              "      <td>0</td>\n",
              "      <td>0</td>\n",
              "      <td>0</td>\n",
              "      <td>...</td>\n",
              "      <td>0</td>\n",
              "      <td>0</td>\n",
              "      <td>0</td>\n",
              "      <td>0</td>\n",
              "      <td>0</td>\n",
              "      <td>0</td>\n",
              "      <td>0</td>\n",
              "      <td>0</td>\n",
              "      <td>0</td>\n",
              "      <td>character_01</td>\n",
              "    </tr>\n",
              "    <tr>\n",
              "      <td>1341</td>\n",
              "      <td>0</td>\n",
              "      <td>0</td>\n",
              "      <td>0</td>\n",
              "      <td>0</td>\n",
              "      <td>0</td>\n",
              "      <td>0</td>\n",
              "      <td>0</td>\n",
              "      <td>0</td>\n",
              "      <td>0</td>\n",
              "      <td>0</td>\n",
              "      <td>...</td>\n",
              "      <td>0</td>\n",
              "      <td>0</td>\n",
              "      <td>0</td>\n",
              "      <td>0</td>\n",
              "      <td>0</td>\n",
              "      <td>0</td>\n",
              "      <td>0</td>\n",
              "      <td>0</td>\n",
              "      <td>0</td>\n",
              "      <td>character_01</td>\n",
              "    </tr>\n",
              "    <tr>\n",
              "      <td>1340</td>\n",
              "      <td>0</td>\n",
              "      <td>0</td>\n",
              "      <td>0</td>\n",
              "      <td>0</td>\n",
              "      <td>0</td>\n",
              "      <td>0</td>\n",
              "      <td>0</td>\n",
              "      <td>0</td>\n",
              "      <td>0</td>\n",
              "      <td>0</td>\n",
              "      <td>...</td>\n",
              "      <td>0</td>\n",
              "      <td>0</td>\n",
              "      <td>0</td>\n",
              "      <td>0</td>\n",
              "      <td>0</td>\n",
              "      <td>0</td>\n",
              "      <td>0</td>\n",
              "      <td>0</td>\n",
              "      <td>0</td>\n",
              "      <td>character_01</td>\n",
              "    </tr>\n",
              "    <tr>\n",
              "      <td>1339</td>\n",
              "      <td>0</td>\n",
              "      <td>0</td>\n",
              "      <td>0</td>\n",
              "      <td>0</td>\n",
              "      <td>0</td>\n",
              "      <td>0</td>\n",
              "      <td>0</td>\n",
              "      <td>0</td>\n",
              "      <td>0</td>\n",
              "      <td>0</td>\n",
              "      <td>...</td>\n",
              "      <td>0</td>\n",
              "      <td>0</td>\n",
              "      <td>0</td>\n",
              "      <td>0</td>\n",
              "      <td>0</td>\n",
              "      <td>0</td>\n",
              "      <td>0</td>\n",
              "      <td>0</td>\n",
              "      <td>0</td>\n",
              "      <td>character_01</td>\n",
              "    </tr>\n",
              "    <tr>\n",
              "      <td>1338</td>\n",
              "      <td>0</td>\n",
              "      <td>0</td>\n",
              "      <td>0</td>\n",
              "      <td>0</td>\n",
              "      <td>0</td>\n",
              "      <td>0</td>\n",
              "      <td>0</td>\n",
              "      <td>0</td>\n",
              "      <td>0</td>\n",
              "      <td>0</td>\n",
              "      <td>...</td>\n",
              "      <td>0</td>\n",
              "      <td>0</td>\n",
              "      <td>0</td>\n",
              "      <td>0</td>\n",
              "      <td>0</td>\n",
              "      <td>0</td>\n",
              "      <td>0</td>\n",
              "      <td>0</td>\n",
              "      <td>0</td>\n",
              "      <td>character_01</td>\n",
              "    </tr>\n",
              "    <tr>\n",
              "      <td>1337</td>\n",
              "      <td>0</td>\n",
              "      <td>0</td>\n",
              "      <td>0</td>\n",
              "      <td>0</td>\n",
              "      <td>0</td>\n",
              "      <td>0</td>\n",
              "      <td>0</td>\n",
              "      <td>0</td>\n",
              "      <td>0</td>\n",
              "      <td>0</td>\n",
              "      <td>...</td>\n",
              "      <td>0</td>\n",
              "      <td>0</td>\n",
              "      <td>0</td>\n",
              "      <td>0</td>\n",
              "      <td>0</td>\n",
              "      <td>0</td>\n",
              "      <td>0</td>\n",
              "      <td>0</td>\n",
              "      <td>0</td>\n",
              "      <td>character_01</td>\n",
              "    </tr>\n",
              "  </tbody>\n",
              "</table>\n",
              "<p>6 rows × 1025 columns</p>\n",
              "</div>"
            ],
            "text/plain": [
              "      pixel__0000  pixel__0001  pixel__0002  pixel__0003  pixel__0004  \\\n",
              "0               0            0            0            0            0   \n",
              "1341            0            0            0            0            0   \n",
              "1340            0            0            0            0            0   \n",
              "1339            0            0            0            0            0   \n",
              "1338            0            0            0            0            0   \n",
              "1337            0            0            0            0            0   \n",
              "\n",
              "      pixel__0005  pixel__0006  pixel__0007  pixel__0008  pixel__0009  ...  \\\n",
              "0               0            0            0            0            0  ...   \n",
              "1341            0            0            0            0            0  ...   \n",
              "1340            0            0            0            0            0  ...   \n",
              "1339            0            0            0            0            0  ...   \n",
              "1338            0            0            0            0            0  ...   \n",
              "1337            0            0            0            0            0  ...   \n",
              "\n",
              "      pixel__1015  pixel__1016  pixel__1017  pixel__1018  pixel__1019  \\\n",
              "0               0            0            0            0            0   \n",
              "1341            0            0            0            0            0   \n",
              "1340            0            0            0            0            0   \n",
              "1339            0            0            0            0            0   \n",
              "1338            0            0            0            0            0   \n",
              "1337            0            0            0            0            0   \n",
              "\n",
              "      pixel__1020  pixel__1021  pixel__1022  pixel__1023     character  \n",
              "0               0            0            0            0  character_01  \n",
              "1341            0            0            0            0  character_01  \n",
              "1340            0            0            0            0  character_01  \n",
              "1339            0            0            0            0  character_01  \n",
              "1338            0            0            0            0  character_01  \n",
              "1337            0            0            0            0  character_01  \n",
              "\n",
              "[6 rows x 1025 columns]"
            ]
          },
          "metadata": {
            "tags": []
          },
          "execution_count": 92
        }
      ]
    },
    {
      "cell_type": "code",
      "metadata": {
        "id": "6fxgZyGzHOIh",
        "colab_type": "code",
        "outputId": "fc9b7223-f9bf-4e34-8be7-833df5c6a65d",
        "colab": {}
      },
      "source": [
        "# Visualising data\n",
        "# The columns are named as pixel__0000 to pixel__1024 and label is character\n",
        "char_names = data.character.unique()  # get all character names\n",
        "rows = 6; columns = 8; # display 46 characters\n",
        "figure, axis = plt.subplots(rows,columns, figsize = (12,12))\n",
        "for row in range(rows):\n",
        "    for col in range(columns):\n",
        "        axis[row, col].set_axis_off()\n",
        "        if (columns * row + col) < len(char_names):\n",
        "            x = data[data.character == char_names[columns * row + col]].iloc[0,:-1].values.reshape(32,32)\n",
        "            x = x.astype(\"float64\")\n",
        "            x/=255\n",
        "            axis[row, col].imshow(x, cmap = \"binary\")\n",
        "            axis[row, col].set_title(char_names[columns * row + col])\n",
        "\n",
        "            \n",
        "plt.subplots_adjust(wspace=1, hspace=1)   \n",
        "plt.show()"
      ],
      "execution_count": 0,
      "outputs": [
        {
          "output_type": "display_data",
          "data": {
            "image/png": "[encoded data removed]",
            "text/plain": [
              "<Figure size 864x864 with 48 Axes>"
            ]
          },
          "metadata": {
            "tags": [],
            "needs_background": "light"
          }
        }
      ]
    },
    {
      "cell_type": "code",
      "metadata": {
        "id": "VgsShDJaHOIk",
        "colab_type": "code",
        "colab": {}
      },
      "source": [
        "# normalize pixel values (0 to 255 - 0 to 1)\n",
        "X = data.values[:,:-1]/255.0\n",
        "Y = data[\"character\"].values\n",
        "del data\n",
        "num_classes = 46"
      ],
      "execution_count": 0,
      "outputs": []
    },
    {
      "cell_type": "code",
      "metadata": {
        "id": "ESWgU60cHOIm",
        "colab_type": "code",
        "outputId": "3364bd28-695a-46a5-8911-85593a848cd7",
        "colab": {}
      },
      "source": [
        "le = LabelEncoder()\n",
        "# le.fit_transform(Y)\n",
        "Y = le.fit_transform(Y)\n",
        "Y = to_categorical(Y, num_classes)\n",
        "\n",
        "le_name_mapping = dict(zip(le.classes_, le.transform(le.classes_))) # Get mapping \n",
        "print(\"This is the mapping of labels\", le_name_mapping)"
      ],
      "execution_count": 0,
      "outputs": [
        {
          "output_type": "stream",
          "text": [
            "This is the mapping of labels {'character_01': 0, 'character_02': 1, 'character_03': 2, 'character_04': 3, 'character_05': 4, 'character_06': 5, 'character_07': 6, 'character_08': 7, 'character_09': 8, 'character_10': 9, 'character_11': 10, 'character_12': 11, 'character_13': 12, 'character_14': 13, 'character_15': 14, 'character_16': 15, 'character_17': 16, 'character_18': 17, 'character_19': 18, 'character_20': 19, 'character_21': 20, 'character_22': 21, 'character_23': 22, 'character_24': 23, 'character_25': 24, 'character_26': 25, 'character_27': 26, 'character_28': 27, 'character_29': 28, 'character_30': 29, 'character_31': 30, 'character_32': 31, 'character_33': 32, 'character_34': 33, 'character_35': 34, 'character_36': 35, 'digit_00': 36, 'digit_01': 37, 'digit_02': 38, 'digit_03': 39, 'digit_04': 40, 'digit_05': 41, 'digit_06': 42, 'digit_07': 43, 'digit_08': 44, 'digit_09': 45}\n"
          ],
          "name": "stdout"
        }
      ]
    },
    {
      "cell_type": "code",
      "metadata": {
        "id": "xs5sp5X7HOIp",
        "colab_type": "code",
        "outputId": "df4a98d6-fac6-4677-ab84-27721a1a0d21",
        "colab": {}
      },
      "source": [
        "# Split to give training and testing data\n",
        "x_train, x_test, y_train, y_test = train_test_split(X, Y, test_size=0.30, random_state=42)\n",
        "print('Train size = ',x_train.shape,\" \",y_train.shape)"
      ],
      "execution_count": 0,
      "outputs": [
        {
          "output_type": "stream",
          "text": [
            "Train size =  (54740, 1024)   (54740, 46)\n"
          ],
          "name": "stdout"
        }
      ]
    },
    {
      "cell_type": "code",
      "metadata": {
        "id": "6twlsX2rHOIr",
        "colab_type": "code",
        "colab": {}
      },
      "source": [
        ""
      ],
      "execution_count": 0,
      "outputs": []
    },
    {
      "cell_type": "code",
      "metadata": {
        "id": "V0WszQjBHOIt",
        "colab_type": "code",
        "colab": {}
      },
      "source": [
        "# Set Image Variables\n",
        "img_height_rows = 32\n",
        "img_width_cols = 32\n",
        "img_shape = (img_height_rows, img_width_cols, 1)"
      ],
      "execution_count": 0,
      "outputs": []
    },
    {
      "cell_type": "code",
      "metadata": {
        "id": "8_tgq_QkHOIw",
        "colab_type": "code",
        "colab": {}
      },
      "source": [
        "# Reshape X (train and test)\n",
        "x_train = x_train.reshape(x_train.shape[0], *img_shape)\n",
        "x_test = x_test.reshape(x_test.shape[0], *img_shape)"
      ],
      "execution_count": 0,
      "outputs": []
    },
    {
      "cell_type": "code",
      "metadata": {
        "id": "6fKF1lMUHOIy",
        "colab_type": "code",
        "colab": {}
      },
      "source": [
        "# Create the CNN Model\n",
        "# recurring variables\n",
        "input_activation = 'relu'\n",
        "output_activation = 'softmax'\n",
        "cnn = Sequential()\n",
        "cnn.add(Conv2D(filters = 32, kernel_size = (3,3), input_shape = img_shape, activation = input_activation))\n",
        "cnn.add(Conv2D(filters = 32, kernel_size =(3,3), activation = input_activation))\n",
        "cnn.add(MaxPool2D(pool_size = (2, 2), strides = (2, 2), padding = 'same'))\n",
        "cnn.add(Dropout(0.25))\n",
        "cnn.add(Conv2D(filters = 64, kernel_size = (3,3), activation = input_activation))\n",
        "cnn.add(Conv2D(filters = 64, kernel_size = (3,3), activation = input_activation))\n",
        "cnn.add(MaxPool2D(pool_size = (2, 2), strides = (2, 2), padding = 'same'))\n",
        "cnn.add(Dropout(0.25))\n",
        "cnn.add(Flatten())\n",
        "cnn.add(Dense(units = 128, activation = input_activation, kernel_initializer = 'uniform'))\n",
        "cnn.add(Dense(units = num_classes, activation = output_activation, kernel_initializer = 'uniform'))"
      ],
      "execution_count": 0,
      "outputs": []
    },
    {
      "cell_type": "code",
      "metadata": {
        "id": "uXCTAKhYHOI0",
        "colab_type": "code",
        "colab": {}
      },
      "source": [
        "opt = 'adam'\n",
        "# try using sgd \n",
        "loss = 'categorical_crossentropy'\n",
        "# loss = 'sparse_categorical_crossentropy' # is said to be good for categorical data when only one value is true \n",
        "metrics = ['accuracy']\n",
        "cnn.compile(optimizer = 'adam', loss = loss, metrics = ['accuracy'])"
      ],
      "execution_count": 0,
      "outputs": []
    },
    {
      "cell_type": "markdown",
      "metadata": {
        "id": "wxGo5z_YHOI2",
        "colab_type": "text"
      },
      "source": [
        "### Model Summary ::"
      ]
    },
    {
      "cell_type": "code",
      "metadata": {
        "id": "HsmwIlGkHOI3",
        "colab_type": "code",
        "outputId": "4feaec94-08f4-4107-a32f-3e3e514e2ddf",
        "colab": {}
      },
      "source": [
        "print(cnn.summary())"
      ],
      "execution_count": 0,
      "outputs": [
        {
          "output_type": "stream",
          "text": [
            "Model: \"sequential_7\"\n",
            "_________________________________________________________________\n",
            "Layer (type)                 Output Shape              Param #   \n",
            "=================================================================\n",
            "conv2d_25 (Conv2D)           (None, 30, 30, 32)        320       \n",
            "_________________________________________________________________\n",
            "conv2d_26 (Conv2D)           (None, 28, 28, 32)        9248      \n",
            "_________________________________________________________________\n",
            "max_pooling2d_13 (MaxPooling (None, 14, 14, 32)        0         \n",
            "_________________________________________________________________\n",
            "dropout_15 (Dropout)         (None, 14, 14, 32)        0         \n",
            "_________________________________________________________________\n",
            "conv2d_27 (Conv2D)           (None, 12, 12, 64)        18496     \n",
            "_________________________________________________________________\n",
            "conv2d_28 (Conv2D)           (None, 10, 10, 64)        36928     \n",
            "_________________________________________________________________\n",
            "max_pooling2d_14 (MaxPooling (None, 5, 5, 64)          0         \n",
            "_________________________________________________________________\n",
            "dropout_16 (Dropout)         (None, 5, 5, 64)          0         \n",
            "_________________________________________________________________\n",
            "flatten_7 (Flatten)          (None, 1600)              0         \n",
            "_________________________________________________________________\n",
            "dense_15 (Dense)             (None, 128)               204928    \n",
            "_________________________________________________________________\n",
            "dense_16 (Dense)             (None, 46)                5934      \n",
            "=================================================================\n",
            "Total params: 275,854\n",
            "Trainable params: 275,854\n",
            "Non-trainable params: 0\n",
            "_________________________________________________________________\n",
            "None\n"
          ],
          "name": "stdout"
        }
      ]
    },
    {
      "cell_type": "code",
      "metadata": {
        "id": "pVSKr_HFHOI5",
        "colab_type": "code",
        "outputId": "ca733720-f13c-47d9-a4ec-18de0d4b46c1",
        "colab": {}
      },
      "source": [
        "history = cnn.fit(x_train, y_train,\n",
        "                  batch_size = 64, epochs = 10,\n",
        "                  validation_data=(x_test, y_test))"
      ],
      "execution_count": 0,
      "outputs": [
        {
          "output_type": "error",
          "ename": "ValueError",
          "evalue": "Error when checking target: expected dense_16 to have shape (1,) but got array with shape (46,)",
          "traceback": [
            "\u001b[1;31m---------------------------------------------------------------------------\u001b[0m",
            "\u001b[1;31mValueError\u001b[0m                                Traceback (most recent call last)",
            "\u001b[1;32m<ipython-input-85-338f5d551ad2>\u001b[0m in \u001b[0;36m<module>\u001b[1;34m\u001b[0m\n\u001b[0;32m      1\u001b[0m history = cnn.fit(x_train, y_train,\n\u001b[0;32m      2\u001b[0m                   \u001b[0mbatch_size\u001b[0m \u001b[1;33m=\u001b[0m \u001b[1;36m64\u001b[0m\u001b[1;33m,\u001b[0m \u001b[0mepochs\u001b[0m \u001b[1;33m=\u001b[0m \u001b[1;36m10\u001b[0m\u001b[1;33m,\u001b[0m\u001b[1;33m\u001b[0m\u001b[1;33m\u001b[0m\u001b[0m\n\u001b[1;32m----> 3\u001b[1;33m                   validation_data=(x_test, y_test))\n\u001b[0m",
            "\u001b[1;32m~\\Anaconda3\\lib\\site-packages\\keras\\engine\\training.py\u001b[0m in \u001b[0;36mfit\u001b[1;34m(self, x, y, batch_size, epochs, verbose, callbacks, validation_split, validation_data, shuffle, class_weight, sample_weight, initial_epoch, steps_per_epoch, validation_steps, validation_freq, max_queue_size, workers, use_multiprocessing, **kwargs)\u001b[0m\n\u001b[0;32m   1152\u001b[0m             \u001b[0msample_weight\u001b[0m\u001b[1;33m=\u001b[0m\u001b[0msample_weight\u001b[0m\u001b[1;33m,\u001b[0m\u001b[1;33m\u001b[0m\u001b[1;33m\u001b[0m\u001b[0m\n\u001b[0;32m   1153\u001b[0m             \u001b[0mclass_weight\u001b[0m\u001b[1;33m=\u001b[0m\u001b[0mclass_weight\u001b[0m\u001b[1;33m,\u001b[0m\u001b[1;33m\u001b[0m\u001b[1;33m\u001b[0m\u001b[0m\n\u001b[1;32m-> 1154\u001b[1;33m             batch_size=batch_size)\n\u001b[0m\u001b[0;32m   1155\u001b[0m \u001b[1;33m\u001b[0m\u001b[0m\n\u001b[0;32m   1156\u001b[0m         \u001b[1;31m# Prepare validation data.\u001b[0m\u001b[1;33m\u001b[0m\u001b[1;33m\u001b[0m\u001b[1;33m\u001b[0m\u001b[0m\n",
            "\u001b[1;32m~\\Anaconda3\\lib\\site-packages\\keras\\engine\\training.py\u001b[0m in \u001b[0;36m_standardize_user_data\u001b[1;34m(self, x, y, sample_weight, class_weight, check_array_lengths, batch_size)\u001b[0m\n\u001b[0;32m    619\u001b[0m                 \u001b[0mfeed_output_shapes\u001b[0m\u001b[1;33m,\u001b[0m\u001b[1;33m\u001b[0m\u001b[1;33m\u001b[0m\u001b[0m\n\u001b[0;32m    620\u001b[0m                 \u001b[0mcheck_batch_axis\u001b[0m\u001b[1;33m=\u001b[0m\u001b[1;32mFalse\u001b[0m\u001b[1;33m,\u001b[0m  \u001b[1;31m# Don't enforce the batch size.\u001b[0m\u001b[1;33m\u001b[0m\u001b[1;33m\u001b[0m\u001b[0m\n\u001b[1;32m--> 621\u001b[1;33m                 exception_prefix='target')\n\u001b[0m\u001b[0;32m    622\u001b[0m \u001b[1;33m\u001b[0m\u001b[0m\n\u001b[0;32m    623\u001b[0m             \u001b[1;31m# Generate sample-wise weight values given the `sample_weight` and\u001b[0m\u001b[1;33m\u001b[0m\u001b[1;33m\u001b[0m\u001b[1;33m\u001b[0m\u001b[0m\n",
            "\u001b[1;32m~\\Anaconda3\\lib\\site-packages\\keras\\engine\\training_utils.py\u001b[0m in \u001b[0;36mstandardize_input_data\u001b[1;34m(data, names, shapes, check_batch_axis, exception_prefix)\u001b[0m\n\u001b[0;32m    143\u001b[0m                             \u001b[1;34m': expected '\u001b[0m \u001b[1;33m+\u001b[0m \u001b[0mnames\u001b[0m\u001b[1;33m[\u001b[0m\u001b[0mi\u001b[0m\u001b[1;33m]\u001b[0m \u001b[1;33m+\u001b[0m \u001b[1;34m' to have shape '\u001b[0m \u001b[1;33m+\u001b[0m\u001b[1;33m\u001b[0m\u001b[1;33m\u001b[0m\u001b[0m\n\u001b[0;32m    144\u001b[0m                             \u001b[0mstr\u001b[0m\u001b[1;33m(\u001b[0m\u001b[0mshape\u001b[0m\u001b[1;33m)\u001b[0m \u001b[1;33m+\u001b[0m \u001b[1;34m' but got array with shape '\u001b[0m \u001b[1;33m+\u001b[0m\u001b[1;33m\u001b[0m\u001b[1;33m\u001b[0m\u001b[0m\n\u001b[1;32m--> 145\u001b[1;33m                             str(data_shape))\n\u001b[0m\u001b[0;32m    146\u001b[0m     \u001b[1;32mreturn\u001b[0m \u001b[0mdata\u001b[0m\u001b[1;33m\u001b[0m\u001b[1;33m\u001b[0m\u001b[0m\n\u001b[0;32m    147\u001b[0m \u001b[1;33m\u001b[0m\u001b[0m\n",
            "\u001b[1;31mValueError\u001b[0m: Error when checking target: expected dense_16 to have shape (1,) but got array with shape (46,)"
          ]
        }
      ]
    },
    {
      "cell_type": "code",
      "metadata": {
        "id": "9JWeNK-8HOI7",
        "colab_type": "code",
        "outputId": "233cf21a-8a6a-434e-aa95-74f103b7fab6",
        "colab": {}
      },
      "source": [
        "scores = cnn.evaluate(x_test, y_test, verbose = 0)\n",
        "print(\"Accuracy: %.2f%%\" % (scores[1] * 100))"
      ],
      "execution_count": 0,
      "outputs": [
        {
          "output_type": "stream",
          "text": [
            "Accuracy: 97.96%\n"
          ],
          "name": "stdout"
        }
      ]
    },
    {
      "cell_type": "code",
      "metadata": {
        "id": "oYYONgaEHOI-",
        "colab_type": "code",
        "outputId": "44a51e0b-3021-481c-b0c0-7746c51f773b",
        "colab": {}
      },
      "source": [
        "# Save the model file\n",
        "project_dir  = \"F:/Semester 8 IIITDMJ/Deep Learning CS617/Project/Experiments/\"\n",
        "file_name = 'model4'\n",
        "model_json = cnn.to_json()\n",
        "with open(project_dir + file_name + \".json\", \"w\") as json_file:\n",
        "    json_file.write(model_json)\n",
        "cnn.save_weights(project_dir + file_name + \".h5\")\n",
        "print(\"Saved model to disk at \", project_dir + file_name)"
      ],
      "execution_count": 0,
      "outputs": [
        {
          "output_type": "stream",
          "text": [
            "Saved model to disk at  F:/Semester 8 IIITDMJ/Deep Learning CS617/Project/Experiments/model4\n"
          ],
          "name": "stdout"
        }
      ]
    },
    {
      "cell_type": "code",
      "metadata": {
        "id": "Mk8O-oVbHOJA",
        "colab_type": "code",
        "outputId": "83896055-0817-4f6a-d8b2-7e8d7fa242ce",
        "colab": {}
      },
      "source": [
        "# Plot acciracy over epochs\n",
        "# print(history.history)\n",
        "plt.plot(history.history['accuracy'])\n",
        "plt.plot(history.history['val_accuracy'])\n",
        "plt.legend(['Training Accuracy','Validation Accuracy'])\n",
        "plt.show()"
      ],
      "execution_count": 0,
      "outputs": [
        {
          "output_type": "display_data",
          "data": {
            "image/png": "[encoded data removed]",
            "text/plain": [
              "<Figure size 432x288 with 1 Axes>"
            ]
          },
          "metadata": {
            "tags": [],
            "needs_background": "light"
          }
        }
      ]
    },
    {
      "cell_type": "code",
      "metadata": {
        "id": "FyCuCzCvHOJC",
        "colab_type": "code",
        "outputId": "88d3cbf6-c4ae-4562-eff1-e076b703668d",
        "colab": {}
      },
      "source": [
        "# Plot loss over epochs\n",
        "plt.plot(history.history['loss'])\n",
        "plt.plot(history.history['val_loss'])\n",
        "plt.legend(['Training Loss', 'Validation Loss'], loc='upper right')\n",
        "plt.show()"
      ],
      "execution_count": 0,
      "outputs": [
        {
          "output_type": "display_data",
          "data": {
            "image/png": "[encoded data removed]",
            "text/plain": [
              "<Figure size 432x288 with 1 Axes>"
            ]
          },
          "metadata": {
            "tags": [],
            "needs_background": "light"
          }
        }
      ]
    },
    {
      "cell_type": "markdown",
      "metadata": {
        "id": "I1cJ1h5w78CG",
        "colab_type": "text"
      },
      "source": [
        "\n",
        "\n",
        "#**Load Model**"
      ]
    },
    {
      "cell_type": "code",
      "metadata": {
        "id": "5VhwgIDV5wWi",
        "colab_type": "code",
        "outputId": "7e0e8835-e672-49c9-db9e-0ea60d82af29",
        "colab": {
          "base_uri": "https://localhost:8080/",
          "height": 122
        }
      },
      "source": [
        "from google.colab import drive\n",
        "drive.mount('/content/drive')"
      ],
      "execution_count": 10,
      "outputs": [
        {
          "output_type": "stream",
          "text": [
            "Go to this URL in a browser: https://accounts.google.com/o/oauth2/auth?client_id=947318989803-6bn6qk8qdgf4n4g3pfee6491hc0brc4i.apps.googleusercontent.com&redirect_uri=urn%3aietf%3awg%3aoauth%3a2.0%3aoob&response_type=code&scope=email%20https%3a%2f%2fwww.googleapis.com%2fauth%2fdocs.test%20https%3a%2f%2fwww.googleapis.com%2fauth%2fdrive%20https%3a%2f%2fwww.googleapis.com%2fauth%2fdrive.photos.readonly%20https%3a%2f%2fwww.googleapis.com%2fauth%2fpeopleapi.readonly\n",
            "\n",
            "Enter your authorization code:\n",
            "··········\n",
            "Mounted at /content/drive\n"
          ],
          "name": "stdout"
        }
      ]
    },
    {
      "cell_type": "code",
      "metadata": {
        "id": "x4Q3khs86Ch2",
        "colab_type": "code",
        "outputId": "4f782ad2-bb5d-4920-9197-807f2885511a",
        "colab": {
          "base_uri": "https://localhost:8080/",
          "height": 34
        }
      },
      "source": [
        "cd \"drive/My Drive/CS617\""
      ],
      "execution_count": 11,
      "outputs": [
        {
          "output_type": "stream",
          "text": [
            "/content/drive/My Drive/CS617\n"
          ],
          "name": "stdout"
        }
      ]
    },
    {
      "cell_type": "code",
      "metadata": {
        "id": "Lz5-gBY1HOJE",
        "colab_type": "code",
        "outputId": "a384b714-f2f0-4b6f-9d01-83dbe7c2c65d",
        "colab": {
          "base_uri": "https://localhost:8080/",
          "height": 51
        }
      },
      "source": [
        "# Load model from disk\n",
        "from keras.models import model_from_json\n",
        "# project_dir  = \"F:/Semester 8 IIITDMJ/Deep Learning CS617/Project/Experiments/\" \n",
        "file_name = 'model1'\n",
        "# json_file = open(project_dir + file_name + '.json', 'r')\n",
        "json_file = open(file_name + '.json', 'r')\n",
        "loaded_model_json = json_file.read()\n",
        "json_file.close()\n",
        "loaded_model = model_from_json(loaded_model_json)\n",
        "# load weights into new model\n",
        "# loaded_model.load_weights(project_dir + file_name + \".h5\")\n",
        "loaded_model.load_weights(file_name + \".h5\")\n",
        "print(\"Loaded model from disk\")"
      ],
      "execution_count": 12,
      "outputs": [
        {
          "output_type": "stream",
          "text": [
            "Using TensorFlow backend.\n"
          ],
          "name": "stderr"
        },
        {
          "output_type": "stream",
          "text": [
            "Loaded model from disk\n"
          ],
          "name": "stdout"
        }
      ]
    },
    {
      "cell_type": "code",
      "metadata": {
        "id": "ntoVnBIyHOJG",
        "colab_type": "code",
        "outputId": "f84f472c-3b7d-4f22-84c0-a346f4b7766f",
        "colab": {
          "base_uri": "https://localhost:8080/",
          "height": 54
        }
      },
      "source": [
        "characters = ['क', 'ख', 'ग', 'घ', 'ङ', 'च', 'छ', 'ज', 'झ', 'ञ', \n",
        "              'ट', 'ठ', 'ड', 'ढ', 'ण', 'त', 'थ', 'द', 'ध', 'न', \n",
        "              'प', 'फ', 'ब', 'भ', 'म', 'य', 'र', 'ल', 'व', 'श', \n",
        "              'ष', 'स', 'ह', 'क्ष', 'त्र', 'ज्ञ', \n",
        "              '०', '१', '२', '३', '४', '५', '६', '७', '८', '९']\n",
        "from PIL import Image\n",
        "import numpy as np\n",
        "from matplotlib.pyplot import imshow\n",
        "import os \n",
        "\n",
        "def getFiles(myDir, format='.png'):\n",
        "\tfileList = []\n",
        "\tfor root, dirs, files in os.walk(myDir, topdown=False):\n",
        "\t    for name in files:\n",
        "\t        if name.endswith(format):\n",
        "\t            fullName = os.path.join(root, name)\n",
        "\t            fileList.append(fullName)\n",
        "\treturn fileList\n",
        "\n",
        "\n",
        "# image_folder = \"F:/Semester 8 IIITDMJ/Deep Learning CS617/Project/dataset/test/\"\n",
        "image_folder = \"test\"\n",
        "file_list = getFiles(image_folder)\n",
        "print(file_list)"
      ],
      "execution_count": 13,
      "outputs": [
        {
          "output_type": "stream",
          "text": [
            "['test/1339.png', 'test/2810.png', 'test/3583.png', 'test/3711.png', 'test/3807.png', 'test/4574.png', 'test/4751.png', 'test/4913.png', 'test/5107.png', 'test/5333.png', 'test/5435.png', 'test/5587.png', 'test/5735.png', 'test/5858.png', 'test/7273.png', 'test/me.png']\n"
          ],
          "name": "stdout"
        }
      ]
    },
    {
      "cell_type": "code",
      "metadata": {
        "id": "8l-PkGiZHOJK",
        "colab_type": "code",
        "colab": {}
      },
      "source": [
        "# Predict single letter 32*32 size files (preprocessed file)\n",
        "# load image (unseen data)\n",
        "def image_vs_predicted(image_path):\n",
        "    img_file = Image.open(image_path)\n",
        "    img_grey = img_file.convert('L')\n",
        "    value = np.asarray(img_grey.getdata(), dtype=np.int).reshape((img_grey.size[1], img_grey.size[0]))\n",
        "    imshow(value, cmap = \"binary\") # plot the test case\n",
        "\n",
        "    x = np.asarray(img_grey, dtype = np.float32).reshape(1, 32, 32, 1) / 255.0 \n",
        "    output = loaded_model.predict(x)\n",
        "    output = output.reshape(46)\n",
        "    predicted = np.argmax(output)\n",
        "    devanagari_label = characters[predicted]\n",
        "    print(\"Predicted Label : \", devanagari_label)\n",
        "    success = output[predicted] * 100\n",
        "    print(\"With success : \", success)"
      ],
      "execution_count": 0,
      "outputs": []
    },
    {
      "cell_type": "code",
      "metadata": {
        "id": "-iDSdVI01qxk",
        "colab_type": "code",
        "colab": {}
      },
      "source": [
        "def predict_letter(img):\n",
        "  x = np.asarray(img, dtype = np.float32).reshape(1, 32, 32, 1) / 255.0 \n",
        "  output = loaded_model.predict(x)\n",
        "  output = output.reshape(46)\n",
        "  predicted = np.argmax(output)\n",
        "  devanagari_label = characters[predicted]\n",
        "  print(\"Predicted Label : \", devanagari_label)\n",
        "  success = output[predicted] * 100\n",
        "  print(\"With success : \", success)\n",
        "  return devanagari_label"
      ],
      "execution_count": 0,
      "outputs": []
    },
    {
      "cell_type": "markdown",
      "metadata": {
        "id": "5OyCiq90HOJM",
        "colab_type": "text"
      },
      "source": [
        "# **Test Cases**"
      ]
    },
    {
      "cell_type": "code",
      "metadata": {
        "id": "oTgZLcAmHOJM",
        "colab_type": "code",
        "outputId": "219f471c-d560-45a8-9059-298421166957",
        "colab": {
          "base_uri": "https://localhost:8080/",
          "height": 300
        }
      },
      "source": [
        "image_vs_predicted(file_list[0])"
      ],
      "execution_count": 0,
      "outputs": [
        {
          "output_type": "stream",
          "text": [
            "Predicted Label :  ५\n",
            "With success :  99.9998927116394\n"
          ],
          "name": "stdout"
        },
        {
          "output_type": "display_data",
          "data": {
            "image/png": "[encoded data removed]",
            "text/plain": [
              "<Figure size 432x288 with 1 Axes>"
            ]
          },
          "metadata": {
            "tags": [],
            "needs_background": "light"
          }
        }
      ]
    },
    {
      "cell_type": "code",
      "metadata": {
        "id": "oGZubH_1HOJP",
        "colab_type": "code",
        "outputId": "144d3803-a810-4d3a-bc2f-6dbf1a5ea0df",
        "colab": {}
      },
      "source": [
        "image_vs_predicted(file_list[1])"
      ],
      "execution_count": 0,
      "outputs": [
        {
          "output_type": "stream",
          "text": [
            "Predicted Label :  ख\n",
            "With success :  100.0\n"
          ],
          "name": "stdout"
        },
        {
          "output_type": "display_data",
          "data": {
            "image/png": "[encoded data removed]",
            "text/plain": [
              "<Figure size 432x288 with 1 Axes>"
            ]
          },
          "metadata": {
            "tags": [],
            "needs_background": "light"
          }
        }
      ]
    },
    {
      "cell_type": "code",
      "metadata": {
        "id": "MckFhWVoHOJR",
        "colab_type": "code",
        "outputId": "ad1800c7-0578-4b29-e898-2b84a407b48a",
        "colab": {}
      },
      "source": [
        "image_vs_predicted(file_list[2])"
      ],
      "execution_count": 0,
      "outputs": [
        {
          "output_type": "stream",
          "text": [
            "Predicted Label :  ज्ञ\n",
            "With success :  100.0\n"
          ],
          "name": "stdout"
        },
        {
          "output_type": "display_data",
          "data": {
            "image/png": "[encoded data removed]",
            "text/plain": [
              "<Figure size 432x288 with 1 Axes>"
            ]
          },
          "metadata": {
            "tags": [],
            "needs_background": "light"
          }
        }
      ]
    },
    {
      "cell_type": "code",
      "metadata": {
        "id": "2PGnwZHpHOJU",
        "colab_type": "code",
        "outputId": "0ceb7fce-b032-4107-9504-3fb50277fe4f",
        "colab": {}
      },
      "source": [
        "image_vs_predicted(file_list[3])"
      ],
      "execution_count": 0,
      "outputs": [
        {
          "output_type": "stream",
          "text": [
            "Predicted Label :  ग\n",
            "With success :  99.99788999557495\n"
          ],
          "name": "stdout"
        },
        {
          "output_type": "display_data",
          "data": {
            "image/png": "[encoded data removed]",
            "text/plain": [
              "<Figure size 432x288 with 1 Axes>"
            ]
          },
          "metadata": {
            "tags": [],
            "needs_background": "light"
          }
        }
      ]
    },
    {
      "cell_type": "code",
      "metadata": {
        "id": "OxMdAS7OHOJW",
        "colab_type": "code",
        "outputId": "20d1baaf-4259-4ff0-c1b9-acb632067db5",
        "colab": {}
      },
      "source": [
        "image_vs_predicted(file_list[4])"
      ],
      "execution_count": 0,
      "outputs": [
        {
          "output_type": "stream",
          "text": [
            "Predicted Label :  घ\n",
            "With success :  99.94223117828369\n"
          ],
          "name": "stdout"
        },
        {
          "output_type": "display_data",
          "data": {
            "image/png": "[encoded data removed]",
            "text/plain": [
              "<Figure size 432x288 with 1 Axes>"
            ]
          },
          "metadata": {
            "tags": [],
            "needs_background": "light"
          }
        }
      ]
    },
    {
      "cell_type": "code",
      "metadata": {
        "id": "IscJujduHOJY",
        "colab_type": "code",
        "outputId": "23399beb-9b47-4437-f2e4-37c1a0eb0d1b",
        "colab": {}
      },
      "source": [
        "image_vs_predicted(file_list[5])"
      ],
      "execution_count": 0,
      "outputs": [
        {
          "output_type": "stream",
          "text": [
            "Predicted Label :  ०\n",
            "With success :  99.99947547912598\n"
          ],
          "name": "stdout"
        },
        {
          "output_type": "display_data",
          "data": {
            "image/png": "[encoded data removed]",
            "text/plain": [
              "<Figure size 432x288 with 1 Axes>"
            ]
          },
          "metadata": {
            "tags": [],
            "needs_background": "light"
          }
        }
      ]
    },
    {
      "cell_type": "code",
      "metadata": {
        "id": "seqDOy1XHOJa",
        "colab_type": "code",
        "outputId": "08689022-4407-4611-9c6e-8f2250444ce8",
        "colab": {}
      },
      "source": [
        "image_vs_predicted(file_list[6])"
      ],
      "execution_count": 0,
      "outputs": [
        {
          "output_type": "stream",
          "text": [
            "Predicted Label :  १\n",
            "With success :  99.99961853027344\n"
          ],
          "name": "stdout"
        },
        {
          "output_type": "display_data",
          "data": {
            "image/png": "[encoded data removed]",
            "text/plain": [
              "<Figure size 432x288 with 1 Axes>"
            ]
          },
          "metadata": {
            "tags": [],
            "needs_background": "light"
          }
        }
      ]
    },
    {
      "cell_type": "code",
      "metadata": {
        "id": "ifSXoi4xHOJc",
        "colab_type": "code",
        "outputId": "5b98df26-429f-4200-e8d9-8418d1574230",
        "colab": {}
      },
      "source": [
        "image_vs_predicted(file_list[7])"
      ],
      "execution_count": 0,
      "outputs": [
        {
          "output_type": "stream",
          "text": [
            "Predicted Label :  २\n",
            "With success :  99.97993111610413\n"
          ],
          "name": "stdout"
        },
        {
          "output_type": "display_data",
          "data": {
            "image/png": "[encoded data removed]",
            "text/plain": [
              "<Figure size 432x288 with 1 Axes>"
            ]
          },
          "metadata": {
            "tags": [],
            "needs_background": "light"
          }
        }
      ]
    },
    {
      "cell_type": "markdown",
      "metadata": {
        "id": "fmITkrR78fhb",
        "colab_type": "text"
      },
      "source": [
        "#**Image Preprocessing for words**"
      ]
    },
    {
      "cell_type": "code",
      "metadata": {
        "id": "FqQU2U0NHOJf",
        "colab_type": "code",
        "colab": {}
      },
      "source": [
        "#  imports for preprocessing\n",
        "import cv2\n",
        "from PIL import Image\n",
        "import matplotlib.pyplot as plt\n",
        "import numpy as np\n"
      ],
      "execution_count": 0,
      "outputs": []
    },
    {
      "cell_type": "markdown",
      "metadata": {
        "id": "Nsw8x2nhnroO",
        "colab_type": "text"
      },
      "source": [
        "##Helper Functions\n"
      ]
    },
    {
      "cell_type": "code",
      "metadata": {
        "id": "Ub40qG-v_nb7",
        "colab_type": "code",
        "colab": {}
      },
      "source": [
        "def get_borders(img, bgcolor):\n",
        "    size = img.shape\n",
        "    check = int(115 * size[0] / 600)\n",
        "    # image = img[:]\n",
        "    top, bottom = 0, size[0] - 1\n",
        "\n",
        "    #Background color\n",
        "    bg = np.repeat(bgcolor, size[1])\n",
        "\n",
        "    # Find the top - when color other than bg is found\n",
        "    count = 0\n",
        "    for row in range(1, size[0]):\n",
        "        if  (np.equal(bg, img[row]).any()) == True:\n",
        "            count += 1\n",
        "        else:\n",
        "            count = 0\n",
        "        if count >= check:\n",
        "            top = row - check\n",
        "            break\n",
        "    \n",
        "    \n",
        "    count = 0\n",
        "    rows = np.arange(1, size[0])\n",
        "    for row in rows[::-1]:\n",
        "        if  (np.equal(bg, img[row]).any()) == True:\n",
        "            count += 1\n",
        "        else:\n",
        "            count = 0\n",
        "        if count >= check:\n",
        "            bottom = row + count\n",
        "            break\n",
        "\n",
        "    return (top, bottom)"
      ],
      "execution_count": 0,
      "outputs": []
    },
    {
      "cell_type": "code",
      "metadata": {
        "id": "vMYaOxN5noOT",
        "colab_type": "code",
        "colab": {}
      },
      "source": [
        "def segmentation(bordered, thresh):\n",
        "    try:\n",
        "        print(\"Segmenting the word\")\n",
        "        shape = bordered.shape\n",
        "        check = int(50 * shape[0] / 320)\n",
        "        image = bordered[:]\n",
        "        image = image[check:].T\n",
        "        shape = image.shape\n",
        "\n",
        "        # Background array\n",
        "        bg = np.repeat(255 - thresh, shape[1])\n",
        "        bg_keys = []\n",
        "        for row in range(1, shape[0]):\n",
        "            if  (np.equal(bg, image[row]).all()):\n",
        "                bg_keys.append(row)            \n",
        "\n",
        "        lenkeys = len(bg_keys)-1\n",
        "        new_keys = [bg_keys[1], bg_keys[-1]]\n",
        "        #print(lenkeys)\n",
        "\n",
        "        for i in range(1, lenkeys):\n",
        "            if (bg_keys[i+1] - bg_keys[i]) > check:\n",
        "                new_keys.append(bg_keys[i])\n",
        "                #print(i)\n",
        "\n",
        "        new_keys = sorted(new_keys)\n",
        "        #print(new_keys)\n",
        "        segmented_templates = []\n",
        "        first = 0\n",
        "        for key in new_keys[1:]:\n",
        "            segment = bordered.T[first:key]\n",
        "            segmented_templates.append(segment.T)\n",
        "            ## show middle segments\n",
        "            # plt.imshow(segment.T)\n",
        "            # plt.show()\n",
        "            first = key\n",
        "        ## Adding last segment to find the end\n",
        "        last_segment = bordered.T[new_keys[-1]:]\n",
        "        segmented_templates.append(last_segment.T)\n",
        "        \n",
        "        return(segmented_templates)\n",
        "    except:\n",
        "        return [bordered]"
      ],
      "execution_count": 0,
      "outputs": []
    },
    {
      "cell_type": "code",
      "metadata": {
        "id": "wfsMLJc96n6V",
        "colab_type": "code",
        "colab": {}
      },
      "source": [
        "import math\n",
        "def image_resize(letter_segments, text_color):\n",
        "    '''\n",
        "    Resize PIL image keeping ratio and using white background.\n",
        "    '''\n",
        "    print(\"Starting Image resize\")\n",
        "    target_height = 32\n",
        "    target_width = 32\n",
        "    target_ratio = target_height / target_width\n",
        "    letter_segments_resized = []\n",
        "    check =  len(letter_segments)\n",
        "    print(len(letter_segments))\n",
        "    bg_color = (255, 255, 255)\n",
        "    if text_color == 255:\n",
        "      bg_color = (0,0,0)\n",
        "    for img in letter_segments:\n",
        "      check = check - 1\n",
        "      # print(\"Inside image_resize for: \")\n",
        "      # plt.imshow(img)\n",
        "      # plt.show()\n",
        "\n",
        "      shape = img.shape\n",
        "      im = Image.fromarray(img)\n",
        "      width, height = im.size  \n",
        "      # img_ratio = shape[0] / shape[1]\n",
        "      img_ratio = height/width\n",
        "\n",
        "      if target_ratio > img_ratio:\n",
        "          # It must be fixed by width\n",
        "          resize_width = target_width\n",
        "          resize_height = math.floor(resize_width * img_ratio)\n",
        "      \n",
        "      else:\n",
        "          # Fixed by height\n",
        "          resize_height = target_height\n",
        "          resize_width = math.floor(resize_height / img_ratio)\n",
        "      if (check == 0):\n",
        "        letter_segments_resized.append(img)\n",
        "        break\n",
        "      if (resize_height > 0 and resize_width > 0):\n",
        "        image_resize = im.resize((resize_width, resize_height), Image.ANTIALIAS)\n",
        "      \n",
        "        # plt.imshow(image_resize)\n",
        "        # plt.show()\n",
        "        background = Image.new(mode = \"RGB\", size = (target_width, target_height), \n",
        "                            color = bg_color)\n",
        "        offset = (round((target_width - resize_width) / 2), round((target_height - resize_height) / 2))\n",
        "        background.paste(image_resize, offset)\n",
        "        background.convert('L')\n",
        "        plt.imshow(background)\n",
        "        plt.show()\n",
        "        background.save('resized.jpg')\n",
        "        print(background)\n",
        "        letter_segments_resized.append(background)\n",
        "    return letter_segments_resized"
      ],
      "execution_count": 0,
      "outputs": []
    },
    {
      "cell_type": "markdown",
      "metadata": {
        "id": "u1p7wEsnn1Qq",
        "colab_type": "text"
      },
      "source": [
        "##Preprocess Image main function\n"
      ]
    },
    {
      "cell_type": "code",
      "metadata": {
        "id": "-srpx9s2HOJh",
        "colab_type": "code",
        "colab": {}
      },
      "source": [
        "def preprocess_image(img_unp):\n",
        "    print(\"Inside preprocess_image\")\n",
        "    # Convert Image to grey\n",
        "    img = Image.open(img_unp).convert('L')\n",
        "    img = cv2.imread(img_unp, 0)\n",
        "    plt.imshow(img)\n",
        "    plt.show()\n",
        "\n",
        "    blur = cv2.GaussianBlur(img,(5,5),0)\n",
        "    ret, inv_img = cv2.threshold(blur, 0, 255, cv2.THRESH_BINARY_INV + cv2.THRESH_OTSU) #converts black to white and inverse\n",
        "\n",
        "    rows, cols = inv_img.shape\n",
        "\n",
        "    bg_test = np.array([inv_img[i][i] for i in range(5)])\n",
        "    text_color = 0\n",
        "    if bg_test.all() == 0:\n",
        "        text_color = 255\n",
        "    \n",
        "    # Trim image\n",
        "    top_bottom = get_borders(inv_img, text_color)\n",
        "    left_right = get_borders(inv_img.T, text_color) # Use same code to trim left and right sides by sending img transpose\n",
        "    print(top_bottom, left_right)\n",
        "    # control_var = int(np.average((top_bottom[2], left_right[2]))) + 4\n",
        "    control_var = 4\n",
        "    trimmed_img = inv_img[top_bottom[0] + control_var : top_bottom[1] - control_var, left_right[0] + control_var : left_right[1] - control_var]\n",
        "    \n",
        "    # plt.imshow(trimmed_img)\n",
        "    # plt.show()\n",
        "    # Seperate into letters\n",
        "    letter_segments = segmentation(trimmed_img, text_color)\n",
        "\n",
        "    # resize the letters to fit 32*32 \n",
        "    resized_image = image_resize(letter_segments, text_color)\n",
        "\n",
        "    return resized_image, trimmed_img, inv_img, text_color\n"
      ],
      "execution_count": 0,
      "outputs": []
    },
    {
      "cell_type": "code",
      "metadata": {
        "id": "r4d_6_KxHOJo",
        "colab_type": "code",
        "outputId": "59f0cb68-147b-43b6-9458-6467200b0e44",
        "colab": {
          "base_uri": "https://localhost:8080/",
          "height": 1000
        }
      },
      "source": [
        "path_1 = \"test/me.png\"\n",
        "preprocess_image(path_1)"
      ],
      "execution_count": 127,
      "outputs": [
        {
          "output_type": "display_data",
          "data": {
            "image/png": "[encoded data removed]",
            "text/plain": [
              "<Figure size 432x288 with 1 Axes>"
            ]
          },
          "metadata": {
            "tags": [],
            "needs_background": "light"
          }
        },
        {
          "output_type": "stream",
          "text": [
            "(22, 91) (7, 224)\n",
            "Segmenting the word\n",
            "Starting Image resize\n",
            "5\n"
          ],
          "name": "stdout"
        },
        {
          "output_type": "display_data",
          "data": {
            "image/png": "[encoded data removed]",
            "text/plain": [
              "<Figure size 432x288 with 1 Axes>"
            ]
          },
          "metadata": {
            "tags": [],
            "needs_background": "light"
          }
        },
        {
          "output_type": "stream",
          "text": [
            "<PIL.Image.Image image mode=RGB size=32x32 at 0x7F7A301EA400>\n"
          ],
          "name": "stdout"
        },
        {
          "output_type": "display_data",
          "data": {
            "image/png": "[encoded data removed]",
            "text/plain": [
              "<Figure size 432x288 with 1 Axes>"
            ]
          },
          "metadata": {
            "tags": [],
            "needs_background": "light"
          }
        },
        {
          "output_type": "stream",
          "text": [
            "<PIL.Image.Image image mode=RGB size=32x32 at 0x7F7A30167EF0>\n"
          ],
          "name": "stdout"
        },
        {
          "output_type": "display_data",
          "data": {
            "image/png": "[encoded data removed]",
            "text/plain": [
              "<Figure size 432x288 with 1 Axes>"
            ]
          },
          "metadata": {
            "tags": [],
            "needs_background": "light"
          }
        },
        {
          "output_type": "stream",
          "text": [
            "<PIL.Image.Image image mode=RGB size=32x32 at 0x7F7A301645C0>\n"
          ],
          "name": "stdout"
        },
        {
          "output_type": "display_data",
          "data": {
            "image/png": "[encoded data removed]",
            "text/plain": [
              "<Figure size 432x288 with 1 Axes>"
            ]
          },
          "metadata": {
            "tags": [],
            "needs_background": "light"
          }
        },
        {
          "output_type": "stream",
          "text": [
            "<PIL.Image.Image image mode=RGB size=32x32 at 0x7F7A30384278>\n"
          ],
          "name": "stdout"
        },
        {
          "output_type": "execute_result",
          "data": {
            "text/plain": [
              "([<PIL.Image.Image image mode=RGB size=32x32 at 0x7F7A301EA400>,\n",
              "  <PIL.Image.Image image mode=RGB size=32x32 at 0x7F7A30167EF0>,\n",
              "  <PIL.Image.Image image mode=RGB size=32x32 at 0x7F7A301645C0>,\n",
              "  <PIL.Image.Image image mode=RGB size=32x32 at 0x7F7A30384278>,\n",
              "  array([[255],\n",
              "         [  0],\n",
              "         [  0],\n",
              "         [  0],\n",
              "         [  0],\n",
              "         [  0],\n",
              "         [  0],\n",
              "         [  0],\n",
              "         [  0],\n",
              "         [  0],\n",
              "         [  0],\n",
              "         [  0],\n",
              "         [  0],\n",
              "         [  0],\n",
              "         [  0],\n",
              "         [  0],\n",
              "         [  0],\n",
              "         [  0],\n",
              "         [  0],\n",
              "         [  0],\n",
              "         [  0],\n",
              "         [  0],\n",
              "         [  0],\n",
              "         [  0],\n",
              "         [  0],\n",
              "         [  0],\n",
              "         [  0],\n",
              "         [  0],\n",
              "         [  0],\n",
              "         [  0],\n",
              "         [  0],\n",
              "         [  0],\n",
              "         [  0],\n",
              "         [  0],\n",
              "         [  0],\n",
              "         [  0],\n",
              "         [  0],\n",
              "         [  0],\n",
              "         [  0],\n",
              "         [  0],\n",
              "         [  0],\n",
              "         [  0],\n",
              "         [  0],\n",
              "         [  0],\n",
              "         [  0],\n",
              "         [  0],\n",
              "         [  0],\n",
              "         [  0],\n",
              "         [  0],\n",
              "         [  0],\n",
              "         [  0],\n",
              "         [  0],\n",
              "         [  0],\n",
              "         [  0],\n",
              "         [  0],\n",
              "         [  0],\n",
              "         [  0],\n",
              "         [  0],\n",
              "         [  0],\n",
              "         [  0],\n",
              "         [  0]], dtype=uint8)],\n",
              " array([[  0,   0,   0, ..., 255, 255, 255],\n",
              "        [  0,   0,   0, ...,   0,   0,   0],\n",
              "        [  0,   0,   0, ...,   0,   0,   0],\n",
              "        ...,\n",
              "        [  0,   0,   0, ...,   0,   0,   0],\n",
              "        [  0,   0,   0, ...,   0,   0,   0],\n",
              "        [  0,   0,   0, ...,   0,   0,   0]], dtype=uint8),\n",
              " array([[0, 0, 0, ..., 0, 0, 0],\n",
              "        [0, 0, 0, ..., 0, 0, 0],\n",
              "        [0, 0, 0, ..., 0, 0, 0],\n",
              "        ...,\n",
              "        [0, 0, 0, ..., 0, 0, 0],\n",
              "        [0, 0, 0, ..., 0, 0, 0],\n",
              "        [0, 0, 0, ..., 0, 0, 0]], dtype=uint8),\n",
              " 255)"
            ]
          },
          "metadata": {
            "tags": []
          },
          "execution_count": 127
        }
      ]
    },
    {
      "cell_type": "markdown",
      "metadata": {
        "id": "ak2stNMF0jcc",
        "colab_type": "text"
      },
      "source": [
        "#Recognition"
      ]
    },
    {
      "cell_type": "code",
      "metadata": {
        "id": "cGkTb0bh0neY",
        "colab_type": "code",
        "colab": {}
      },
      "source": [
        "def recognition_word(img_path):\n",
        "  print(\"Inside word recognition\")\n",
        "  letters, trimmed_img, inv_img, text_color = preprocess_image(img_path)\n",
        "  labels = []\n",
        "  accuracy = []\n",
        "  for letter in letters: \n",
        "    predict_letter(letter)\n",
        "\n",
        "  return"
      ],
      "execution_count": 0,
      "outputs": []
    },
    {
      "cell_type": "code",
      "metadata": {
        "id": "2J3LpZx6EpVD",
        "colab_type": "code",
        "colab": {
          "base_uri": "https://localhost:8080/",
          "height": 947
        },
        "outputId": "52c8e707-246a-451d-cbec-9e9fbd68459b"
      },
      "source": [
        "path_1 = \"test/me.png\"\n",
        "recognition_word(path_1)"
      ],
      "execution_count": 133,
      "outputs": [
        {
          "output_type": "stream",
          "text": [
            "Inside word recognition\n",
            "Inside preprocess_image\n"
          ],
          "name": "stdout"
        },
        {
          "output_type": "display_data",
          "data": {
            "image/png": "[encoded data removed]",
            "text/plain": [
              "<Figure size 432x288 with 1 Axes>"
            ]
          },
          "metadata": {
            "tags": [],
            "needs_background": "light"
          }
        },
        {
          "output_type": "stream",
          "text": [
            "(22, 91) (7, 224)\n",
            "Segmenting the word\n",
            "Starting Image resize\n",
            "5\n"
          ],
          "name": "stdout"
        },
        {
          "output_type": "error",
          "ename": "TypeError",
          "evalue": "ignored",
          "traceback": [
            "\u001b[0;31m---------------------------------------------------------------------------\u001b[0m",
            "\u001b[0;31mTypeError\u001b[0m                                 Traceback (most recent call last)",
            "\u001b[0;32m<ipython-input-133-ca1bc62f4fe9>\u001b[0m in \u001b[0;36m<module>\u001b[0;34m()\u001b[0m\n\u001b[1;32m      1\u001b[0m \u001b[0mpath_1\u001b[0m \u001b[0;34m=\u001b[0m \u001b[0;34m\"test/me.png\"\u001b[0m\u001b[0;34m\u001b[0m\u001b[0;34m\u001b[0m\u001b[0m\n\u001b[0;32m----> 2\u001b[0;31m \u001b[0mrecognition_word\u001b[0m\u001b[0;34m(\u001b[0m\u001b[0mpath_1\u001b[0m\u001b[0;34m)\u001b[0m\u001b[0;34m\u001b[0m\u001b[0;34m\u001b[0m\u001b[0m\n\u001b[0m",
            "\u001b[0;32m<ipython-input-130-e3b148b71a4b>\u001b[0m in \u001b[0;36mrecognition_word\u001b[0;34m(img_path)\u001b[0m\n\u001b[1;32m      1\u001b[0m \u001b[0;32mdef\u001b[0m \u001b[0mrecognition_word\u001b[0m\u001b[0;34m(\u001b[0m\u001b[0mimg_path\u001b[0m\u001b[0;34m)\u001b[0m\u001b[0;34m:\u001b[0m\u001b[0;34m\u001b[0m\u001b[0;34m\u001b[0m\u001b[0m\n\u001b[1;32m      2\u001b[0m   \u001b[0mprint\u001b[0m\u001b[0;34m(\u001b[0m\u001b[0;34m\"Inside word recognition\"\u001b[0m\u001b[0;34m)\u001b[0m\u001b[0;34m\u001b[0m\u001b[0;34m\u001b[0m\u001b[0m\n\u001b[0;32m----> 3\u001b[0;31m   \u001b[0mletters\u001b[0m\u001b[0;34m,\u001b[0m \u001b[0mtrimmed_img\u001b[0m\u001b[0;34m,\u001b[0m \u001b[0minv_img\u001b[0m\u001b[0;34m,\u001b[0m \u001b[0mtext_color\u001b[0m \u001b[0;34m=\u001b[0m \u001b[0mpreprocess_image\u001b[0m\u001b[0;34m(\u001b[0m\u001b[0mimg_path\u001b[0m\u001b[0;34m)\u001b[0m\u001b[0;34m\u001b[0m\u001b[0;34m\u001b[0m\u001b[0m\n\u001b[0m\u001b[1;32m      4\u001b[0m   \u001b[0mlabels\u001b[0m \u001b[0;34m=\u001b[0m \u001b[0;34m[\u001b[0m\u001b[0;34m]\u001b[0m\u001b[0;34m\u001b[0m\u001b[0;34m\u001b[0m\u001b[0m\n\u001b[1;32m      5\u001b[0m   \u001b[0maccuracy\u001b[0m \u001b[0;34m=\u001b[0m \u001b[0;34m[\u001b[0m\u001b[0;34m]\u001b[0m\u001b[0;34m\u001b[0m\u001b[0;34m\u001b[0m\u001b[0m\n",
            "\u001b[0;32m<ipython-input-128-efe1e8de5ac6>\u001b[0m in \u001b[0;36mpreprocess_image\u001b[0;34m(img_unp)\u001b[0m\n\u001b[1;32m     31\u001b[0m \u001b[0;34m\u001b[0m\u001b[0m\n\u001b[1;32m     32\u001b[0m     \u001b[0;31m# resize the letters to fit 32*32\u001b[0m\u001b[0;34m\u001b[0m\u001b[0;34m\u001b[0m\u001b[0;34m\u001b[0m\u001b[0m\n\u001b[0;32m---> 33\u001b[0;31m     \u001b[0mresized_image\u001b[0m \u001b[0;34m=\u001b[0m \u001b[0mimage_resize\u001b[0m\u001b[0;34m(\u001b[0m\u001b[0mletter_segments\u001b[0m\u001b[0;34m,\u001b[0m \u001b[0mtext_color\u001b[0m\u001b[0;34m)\u001b[0m\u001b[0;34m\u001b[0m\u001b[0;34m\u001b[0m\u001b[0m\n\u001b[0m\u001b[1;32m     34\u001b[0m \u001b[0;34m\u001b[0m\u001b[0m\n\u001b[1;32m     35\u001b[0m     \u001b[0;32mreturn\u001b[0m \u001b[0mresized_image\u001b[0m\u001b[0;34m,\u001b[0m \u001b[0mtrimmed_img\u001b[0m\u001b[0;34m,\u001b[0m \u001b[0minv_img\u001b[0m\u001b[0;34m,\u001b[0m \u001b[0mtext_color\u001b[0m\u001b[0;34m\u001b[0m\u001b[0;34m\u001b[0m\u001b[0m\n",
            "\u001b[0;32m<ipython-input-132-3f0ae698e6d3>\u001b[0m in \u001b[0;36mimage_resize\u001b[0;34m(letter_segments, text_color)\u001b[0m\n\u001b[1;32m     44\u001b[0m         \u001b[0;31m# plt.show()\u001b[0m\u001b[0;34m\u001b[0m\u001b[0;34m\u001b[0m\u001b[0;34m\u001b[0m\u001b[0m\n\u001b[1;32m     45\u001b[0m         background = Image.new(mode = \"L\", size = (target_width, target_height), \n\u001b[0;32m---> 46\u001b[0;31m                             color = bg_color)\n\u001b[0m\u001b[1;32m     47\u001b[0m         \u001b[0moffset\u001b[0m \u001b[0;34m=\u001b[0m \u001b[0;34m(\u001b[0m\u001b[0mround\u001b[0m\u001b[0;34m(\u001b[0m\u001b[0;34m(\u001b[0m\u001b[0mtarget_width\u001b[0m \u001b[0;34m-\u001b[0m \u001b[0mresize_width\u001b[0m\u001b[0;34m)\u001b[0m \u001b[0;34m/\u001b[0m \u001b[0;36m2\u001b[0m\u001b[0;34m)\u001b[0m\u001b[0;34m,\u001b[0m \u001b[0mround\u001b[0m\u001b[0;34m(\u001b[0m\u001b[0;34m(\u001b[0m\u001b[0mtarget_height\u001b[0m \u001b[0;34m-\u001b[0m \u001b[0mresize_height\u001b[0m\u001b[0;34m)\u001b[0m \u001b[0;34m/\u001b[0m \u001b[0;36m2\u001b[0m\u001b[0;34m)\u001b[0m\u001b[0;34m)\u001b[0m\u001b[0;34m\u001b[0m\u001b[0;34m\u001b[0m\u001b[0m\n\u001b[1;32m     48\u001b[0m         \u001b[0mbackground\u001b[0m\u001b[0;34m.\u001b[0m\u001b[0mpaste\u001b[0m\u001b[0;34m(\u001b[0m\u001b[0mimage_resize\u001b[0m\u001b[0;34m,\u001b[0m \u001b[0moffset\u001b[0m\u001b[0;34m)\u001b[0m\u001b[0;34m\u001b[0m\u001b[0;34m\u001b[0m\u001b[0m\n",
            "\u001b[0;32m/usr/local/lib/python3.6/dist-packages/PIL/Image.py\u001b[0m in \u001b[0;36mnew\u001b[0;34m(mode, size, color)\u001b[0m\n\u001b[1;32m   2542\u001b[0m         \u001b[0mim\u001b[0m\u001b[0;34m.\u001b[0m\u001b[0mpalette\u001b[0m \u001b[0;34m=\u001b[0m \u001b[0mImagePalette\u001b[0m\u001b[0;34m.\u001b[0m\u001b[0mImagePalette\u001b[0m\u001b[0;34m(\u001b[0m\u001b[0;34m)\u001b[0m\u001b[0;34m\u001b[0m\u001b[0;34m\u001b[0m\u001b[0m\n\u001b[1;32m   2543\u001b[0m         \u001b[0mcolor\u001b[0m \u001b[0;34m=\u001b[0m \u001b[0mim\u001b[0m\u001b[0;34m.\u001b[0m\u001b[0mpalette\u001b[0m\u001b[0;34m.\u001b[0m\u001b[0mgetcolor\u001b[0m\u001b[0;34m(\u001b[0m\u001b[0mcolor\u001b[0m\u001b[0;34m)\u001b[0m\u001b[0;34m\u001b[0m\u001b[0;34m\u001b[0m\u001b[0m\n\u001b[0;32m-> 2544\u001b[0;31m     \u001b[0;32mreturn\u001b[0m \u001b[0mim\u001b[0m\u001b[0;34m.\u001b[0m\u001b[0m_new\u001b[0m\u001b[0;34m(\u001b[0m\u001b[0mcore\u001b[0m\u001b[0;34m.\u001b[0m\u001b[0mfill\u001b[0m\u001b[0;34m(\u001b[0m\u001b[0mmode\u001b[0m\u001b[0;34m,\u001b[0m \u001b[0msize\u001b[0m\u001b[0;34m,\u001b[0m \u001b[0mcolor\u001b[0m\u001b[0;34m)\u001b[0m\u001b[0;34m)\u001b[0m\u001b[0;34m\u001b[0m\u001b[0;34m\u001b[0m\u001b[0m\n\u001b[0m\u001b[1;32m   2545\u001b[0m \u001b[0;34m\u001b[0m\u001b[0m\n\u001b[1;32m   2546\u001b[0m \u001b[0;34m\u001b[0m\u001b[0m\n",
            "\u001b[0;31mTypeError\u001b[0m: function takes exactly 1 argument (3 given)"
          ]
        }
      ]
    }
  ]
}